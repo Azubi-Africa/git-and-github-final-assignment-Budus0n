{
 "cells": [
  {
   "cell_type": "markdown",
   "id": "2291d918-262d-4ac5-89cd-1bf6c995741c",
   "metadata": {},
   "source": [
    "### GROUP 3 WEEK 5 CASE STUDY"
   ]
  },
  {
   "cell_type": "code",
   "execution_count": 103,
   "id": "d576ce89-c1c8-464e-a6a5-825bad6ee2e3",
   "metadata": {},
   "outputs": [
    {
     "data": {
      "text/html": [
       "<div>\n",
       "<style scoped>\n",
       "    .dataframe tbody tr th:only-of-type {\n",
       "        vertical-align: middle;\n",
       "    }\n",
       "\n",
       "    .dataframe tbody tr th {\n",
       "        vertical-align: top;\n",
       "    }\n",
       "\n",
       "    .dataframe thead th {\n",
       "        text-align: right;\n",
       "    }\n",
       "</style>\n",
       "<table border=\"1\" class=\"dataframe\">\n",
       "  <thead>\n",
       "    <tr style=\"text-align: right;\">\n",
       "      <th></th>\n",
       "      <th>Plate ID</th>\n",
       "      <th>Registration State</th>\n",
       "      <th>Vehicle Make</th>\n",
       "      <th>Violation Time</th>\n",
       "      <th>Street Name</th>\n",
       "      <th>Vehicle Color</th>\n",
       "    </tr>\n",
       "  </thead>\n",
       "  <tbody>\n",
       "    <tr>\n",
       "      <th>0</th>\n",
       "      <td>J58JKX</td>\n",
       "      <td>NJ</td>\n",
       "      <td>HONDA</td>\n",
       "      <td>0523P</td>\n",
       "      <td>43 ST</td>\n",
       "      <td>BK</td>\n",
       "    </tr>\n",
       "    <tr>\n",
       "      <th>1</th>\n",
       "      <td>KRE6058</td>\n",
       "      <td>PA</td>\n",
       "      <td>ME/BE</td>\n",
       "      <td>0428P</td>\n",
       "      <td>UNION ST</td>\n",
       "      <td>BLK</td>\n",
       "    </tr>\n",
       "    <tr>\n",
       "      <th>2</th>\n",
       "      <td>444326R</td>\n",
       "      <td>NJ</td>\n",
       "      <td>LEXUS</td>\n",
       "      <td>0625A</td>\n",
       "      <td>CLERMONT AVENUE</td>\n",
       "      <td>BLACK</td>\n",
       "    </tr>\n",
       "    <tr>\n",
       "      <th>3</th>\n",
       "      <td>F728330</td>\n",
       "      <td>OH</td>\n",
       "      <td>CHEVR</td>\n",
       "      <td>1106A</td>\n",
       "      <td>DIVISION AVE</td>\n",
       "      <td>NaN</td>\n",
       "    </tr>\n",
       "    <tr>\n",
       "      <th>4</th>\n",
       "      <td>FMY9090</td>\n",
       "      <td>NY</td>\n",
       "      <td>JEEP</td>\n",
       "      <td>1253A</td>\n",
       "      <td>GRAND ST</td>\n",
       "      <td>GREY</td>\n",
       "    </tr>\n",
       "    <tr>\n",
       "      <th>5</th>\n",
       "      <td>KDG0693</td>\n",
       "      <td>PA</td>\n",
       "      <td>HYUN</td>\n",
       "      <td>0525P</td>\n",
       "      <td>B 99 ST</td>\n",
       "      <td>GY</td>\n",
       "    </tr>\n",
       "    <tr>\n",
       "      <th>6</th>\n",
       "      <td>79928MG</td>\n",
       "      <td>NY</td>\n",
       "      <td>INTER</td>\n",
       "      <td>1120A</td>\n",
       "      <td>W/S/O WASHINGTON ST</td>\n",
       "      <td>WH</td>\n",
       "    </tr>\n",
       "    <tr>\n",
       "      <th>7</th>\n",
       "      <td>JJJ8186</td>\n",
       "      <td>NY</td>\n",
       "      <td>BMW</td>\n",
       "      <td>0320A</td>\n",
       "      <td>BAINBRIDGE AVE</td>\n",
       "      <td>BLK</td>\n",
       "    </tr>\n",
       "    <tr>\n",
       "      <th>8</th>\n",
       "      <td>DKD6024</td>\n",
       "      <td>NC</td>\n",
       "      <td>FORD</td>\n",
       "      <td>0843P</td>\n",
       "      <td>94 ST</td>\n",
       "      <td>GREY</td>\n",
       "    </tr>\n",
       "    <tr>\n",
       "      <th>9</th>\n",
       "      <td>6542FR</td>\n",
       "      <td>99</td>\n",
       "      <td>CMCKU</td>\n",
       "      <td>0739P</td>\n",
       "      <td>E 54 ST</td>\n",
       "      <td>RED</td>\n",
       "    </tr>\n",
       "    <tr>\n",
       "      <th>10</th>\n",
       "      <td>JKZ9192</td>\n",
       "      <td>NY</td>\n",
       "      <td>HONDA</td>\n",
       "      <td>1020A</td>\n",
       "      <td>ROCKAWAY AVE</td>\n",
       "      <td>GREY</td>\n",
       "    </tr>\n",
       "    <tr>\n",
       "      <th>11</th>\n",
       "      <td>JEJ2470</td>\n",
       "      <td>NY</td>\n",
       "      <td>HONDA</td>\n",
       "      <td>0936P</td>\n",
       "      <td>E 167 ST</td>\n",
       "      <td>GRAY</td>\n",
       "    </tr>\n",
       "    <tr>\n",
       "      <th>12</th>\n",
       "      <td>GLL6398</td>\n",
       "      <td>NY</td>\n",
       "      <td>HONDA</td>\n",
       "      <td>1030A</td>\n",
       "      <td>ROCKAWAY AVE</td>\n",
       "      <td>BLACK</td>\n",
       "    </tr>\n",
       "    <tr>\n",
       "      <th>13</th>\n",
       "      <td>HFB9724</td>\n",
       "      <td>NY</td>\n",
       "      <td>HONDA</td>\n",
       "      <td>1015A</td>\n",
       "      <td>ROCKAWAY AVE</td>\n",
       "      <td>BLACK</td>\n",
       "    </tr>\n",
       "    <tr>\n",
       "      <th>14</th>\n",
       "      <td>A081358</td>\n",
       "      <td>ME</td>\n",
       "      <td>HONDA</td>\n",
       "      <td>0952A</td>\n",
       "      <td>MARTENSE ST</td>\n",
       "      <td>TAN</td>\n",
       "    </tr>\n",
       "    <tr>\n",
       "      <th>15</th>\n",
       "      <td>JKZ9192</td>\n",
       "      <td>NY</td>\n",
       "      <td>HONDA</td>\n",
       "      <td>0815A</td>\n",
       "      <td>ROCKAWAY AVE</td>\n",
       "      <td>SILVE</td>\n",
       "    </tr>\n",
       "    <tr>\n",
       "      <th>16</th>\n",
       "      <td>7533572</td>\n",
       "      <td>GV</td>\n",
       "      <td>NaN</td>\n",
       "      <td>0410P</td>\n",
       "      <td>E 58 ST</td>\n",
       "      <td>WH</td>\n",
       "    </tr>\n",
       "    <tr>\n",
       "      <th>17</th>\n",
       "      <td>96169MA</td>\n",
       "      <td>NY</td>\n",
       "      <td>FRUEH</td>\n",
       "      <td>0605P</td>\n",
       "      <td>W 125 ST</td>\n",
       "      <td>BN</td>\n",
       "    </tr>\n",
       "    <tr>\n",
       "      <th>18</th>\n",
       "      <td>KMMOVING</td>\n",
       "      <td>NC</td>\n",
       "      <td>FORD</td>\n",
       "      <td>0825P</td>\n",
       "      <td>E 40 STREET</td>\n",
       "      <td>WH</td>\n",
       "    </tr>\n",
       "    <tr>\n",
       "      <th>19</th>\n",
       "      <td>89493MK</td>\n",
       "      <td>NY</td>\n",
       "      <td>INTER</td>\n",
       "      <td>0854A</td>\n",
       "      <td>44TH ST</td>\n",
       "      <td>WH</td>\n",
       "    </tr>\n",
       "  </tbody>\n",
       "</table>\n",
       "</div>"
      ],
      "text/plain": [
       "    Plate ID Registration State Vehicle Make Violation Time  \\\n",
       "0     J58JKX                 NJ        HONDA          0523P   \n",
       "1    KRE6058                 PA        ME/BE          0428P   \n",
       "2    444326R                 NJ        LEXUS          0625A   \n",
       "3    F728330                 OH        CHEVR          1106A   \n",
       "4    FMY9090                 NY         JEEP          1253A   \n",
       "5    KDG0693                 PA         HYUN          0525P   \n",
       "6    79928MG                 NY        INTER          1120A   \n",
       "7    JJJ8186                 NY          BMW          0320A   \n",
       "8    DKD6024                 NC         FORD          0843P   \n",
       "9     6542FR                 99        CMCKU          0739P   \n",
       "10   JKZ9192                 NY        HONDA          1020A   \n",
       "11   JEJ2470                 NY        HONDA          0936P   \n",
       "12   GLL6398                 NY        HONDA          1030A   \n",
       "13   HFB9724                 NY        HONDA          1015A   \n",
       "14   A081358                 ME        HONDA          0952A   \n",
       "15   JKZ9192                 NY        HONDA          0815A   \n",
       "16   7533572                 GV          NaN          0410P   \n",
       "17   96169MA                 NY        FRUEH          0605P   \n",
       "18  KMMOVING                 NC         FORD          0825P   \n",
       "19   89493MK                 NY        INTER          0854A   \n",
       "\n",
       "            Street Name Vehicle Color  \n",
       "0                 43 ST            BK  \n",
       "1              UNION ST           BLK  \n",
       "2       CLERMONT AVENUE         BLACK  \n",
       "3          DIVISION AVE           NaN  \n",
       "4              GRAND ST          GREY  \n",
       "5               B 99 ST            GY  \n",
       "6   W/S/O WASHINGTON ST            WH  \n",
       "7        BAINBRIDGE AVE           BLK  \n",
       "8                 94 ST          GREY  \n",
       "9               E 54 ST           RED  \n",
       "10         ROCKAWAY AVE          GREY  \n",
       "11             E 167 ST          GRAY  \n",
       "12         ROCKAWAY AVE         BLACK  \n",
       "13         ROCKAWAY AVE         BLACK  \n",
       "14          MARTENSE ST           TAN  \n",
       "15         ROCKAWAY AVE         SILVE  \n",
       "16              E 58 ST            WH  \n",
       "17             W 125 ST            BN  \n",
       "18          E 40 STREET            WH  \n",
       "19              44TH ST            WH  "
      ]
     },
     "execution_count": 103,
     "metadata": {},
     "output_type": "execute_result"
    }
   ],
   "source": [
    "import pandas as pd\n",
    "\n",
    "\n",
    "# interested Columns\n",
    "interested_columns = ['Plate ID', 'Registration State', 'Vehicle Make', 'Vehicle Color', 'Violation Time', 'Street Name']\n",
    "\n",
    "# create a data frame using the interested columns\n",
    "df = pd.read_csv(\"nyc-parking-violations-2020.csv\", usecols=interested_columns)\n",
    "\n",
    "df.head(20)"
   ]
  },
  {
   "cell_type": "markdown",
   "id": "f18d27db-b222-4f5c-a9e2-2aaa10256d09",
   "metadata": {},
   "source": [
    "### QUESTION 1: How many rows are in the data frame when it is read into memory?"
   ]
  },
  {
   "cell_type": "code",
   "execution_count": 104,
   "id": "a2870a59-484b-44b7-bb62-12f023fcb46f",
   "metadata": {},
   "outputs": [
    {
     "name": "stdout",
     "output_type": "stream",
     "text": [
      "Total number of rows are: 12,495,734\n"
     ]
    }
   ],
   "source": [
    "# Total count of rows\n",
    "num_rows = df.shape[0]\n",
    "\n",
    "print(f\"Total number of rows are: {num_rows:,}\")"
   ]
  },
  {
   "cell_type": "markdown",
   "id": "9858fab0-25c2-4beb-b060-66d3b5916d83",
   "metadata": {},
   "source": [
    "### QUESTION 2: Remove rows with any missing data (i.e., a NaN value)."
   ]
  },
  {
   "cell_type": "code",
   "execution_count": 105,
   "id": "c0982f12-27a9-4ff8-b45b-2e70aa60aeaa",
   "metadata": {},
   "outputs": [
    {
     "data": {
      "text/plain": [
       "Plate ID                 202\n",
       "Registration State         0\n",
       "Vehicle Make           62420\n",
       "Violation Time           278\n",
       "Street Name             1417\n",
       "Vehicle Color         391982\n",
       "dtype: int64"
      ]
     },
     "execution_count": 105,
     "metadata": {},
     "output_type": "execute_result"
    }
   ],
   "source": [
    "# Check columns with null values\n",
    "df.isna().sum()"
   ]
  },
  {
   "cell_type": "code",
   "execution_count": 106,
   "id": "e4ebbd31-eb81-4a3f-86c4-446b0107bb2d",
   "metadata": {},
   "outputs": [
    {
     "data": {
      "text/plain": [
       "Plate ID              0\n",
       "Registration State    0\n",
       "Vehicle Make          0\n",
       "Violation Time        0\n",
       "Street Name           0\n",
       "Vehicle Color         0\n",
       "dtype: int64"
      ]
     },
     "execution_count": 106,
     "metadata": {},
     "output_type": "execute_result"
    }
   ],
   "source": [
    "# Remove all columns with null values\n",
    "df.dropna(inplace=True)\n",
    "\n",
    "df.isna().sum()"
   ]
  },
  {
   "cell_type": "markdown",
   "id": "4f02ab16-17b2-4469-9718-915a7ef9584f",
   "metadata": {},
   "source": [
    "### QUESTION 3: How many rows remain after doing this pruning?"
   ]
  },
  {
   "cell_type": "code",
   "execution_count": 107,
   "id": "752994ee-2531-4a18-b60a-79471af3308b",
   "metadata": {},
   "outputs": [
    {
     "name": "stdout",
     "output_type": "stream",
     "text": [
      "Total number of rows left without null values are: 12,048,375\n"
     ]
    }
   ],
   "source": [
    "# Number of rows left after taking out rows with null values\n",
    "rows_after_pruning = df.shape[0]\n",
    "\n",
    "print(f\"Total number of rows left without null values are: {rows_after_pruning:,}\")"
   ]
  },
  {
   "cell_type": "markdown",
   "id": "c605c57f-8aaa-419e-a98e-27a26fce13c2",
   "metadata": {},
   "source": [
    "### QUESTION 4: If each parking ticket brings $100 into the city, and missing data means that the ticket can be successfully contested, how much money might New York City lose as a result of such missing data?"
   ]
  },
  {
   "cell_type": "code",
   "execution_count": 108,
   "id": "d3bd4823-5649-4d25-9026-cf0480441ff5",
   "metadata": {},
   "outputs": [
    {
     "name": "stdout",
     "output_type": "stream",
     "text": [
      "As a result of such missing data, the amount of money New York city might lose is: $44,735,900.00\n"
     ]
    }
   ],
   "source": [
    "# Money loss calculation assuming $100 per ticket\n",
    "calculated_loss = (num_rows - rows_after_pruning) * 100\n",
    "\n",
    "print(f\"As a result of such missing data, the amount of money New York city might lose is: ${calculated_loss:,.2f}\")"
   ]
  },
  {
   "cell_type": "markdown",
   "id": "52484382-6735-4848-923b-b2380429bea8",
   "metadata": {},
   "source": [
    "### QUESTION 5: Let’s instead assume that a ticket can only be dismissed if the license plate, state, car, make, and/or street name are missing. Remove rows that are missing one or more of these. How many rows remain?"
   ]
  },
  {
   "cell_type": "code",
   "execution_count": 111,
   "id": "23baf7dd-1245-4f7c-b391-944f15a5cf7e",
   "metadata": {},
   "outputs": [
    {
     "name": "stdout",
     "output_type": "stream",
     "text": [
      "Number of rows remaining after dismissed tickets: 12,431,949\n"
     ]
    },
    {
     "data": {
      "text/plain": [
       "Plate ID                   0\n",
       "Registration State         0\n",
       "Vehicle Make               0\n",
       "Violation Time           244\n",
       "Street Name                0\n",
       "Vehicle Color         383350\n",
       "dtype: int64"
      ]
     },
     "execution_count": 111,
     "metadata": {},
     "output_type": "execute_result"
    }
   ],
   "source": [
    "# interested Columns\n",
    "interested_columns = ['Plate ID', 'Registration State', 'Vehicle Make', 'Street Name']\n",
    " \n",
    "# Columns of interest are Plate ID, Registration State, Vehicle Make, Street Name\n",
    "remaining_rows = df.dropna(subset=interested_columns)\n",
    " \n",
    "# Number of rows remaining after dismissed tickets\n",
    "num_remaining_rows = remaining_rows.shape[0]\n",
    "print(f\"Number of rows remaining after dismissed tickets: {num_remaining_rows:,}\")\n",
    " \n",
    "# remaining_rows.shape[0]\n",
    "remaining_rows.isna().sum()"
   ]
  },
  {
   "cell_type": "markdown",
   "id": "0af92cba-1e76-4e8c-8c07-da40c0251769",
   "metadata": {},
   "source": [
    "### QUESTION 6: Assuming $100/ticket, how much money would the city lose as a result of this missing data?"
   ]
  },
  {
   "cell_type": "code",
   "execution_count": 110,
   "id": "88be81c6-20ad-4547-8770-9b085072bd28",
   "metadata": {},
   "outputs": [
    {
     "name": "stdout",
     "output_type": "stream",
     "text": [
      "Considering the new assumption, the amount of money New York city might lose as a result of missing data is: $6,378,500.00\n"
     ]
    }
   ],
   "source": [
    "# Number of rows in dataframe when it was read to memory\n",
    "rows_in_memory = num_rows\n",
    "\n",
    "# Money loss calculation assuming $100 per ticket\n",
    "money_loss_assumption = (rows_in_memory - num_remaining_rows) * 100\n",
    "\n",
    "print(f\"Considering the new assumption, the amount of money New York city might lose as a result of missing data is: ${money_loss_assumption:,.2f}\")"
   ]
  }
 ],
 "metadata": {
  "kernelspec": {
   "display_name": "Python 3 (ipykernel)",
   "language": "python",
   "name": "python3"
  },
  "language_info": {
   "codemirror_mode": {
    "name": "ipython",
    "version": 3
   },
   "file_extension": ".py",
   "mimetype": "text/x-python",
   "name": "python",
   "nbconvert_exporter": "python",
   "pygments_lexer": "ipython3",
   "version": "3.10.11"
  }
 },
 "nbformat": 4,
 "nbformat_minor": 5
}
