{
 "cells": [
  {
   "cell_type": "code",
   "execution_count": 6,
   "id": "3209b4a0-7f9b-4997-af15-9dc764394c78",
   "metadata": {},
   "outputs": [],
   "source": [
    "# Import pandas\n",
    "import pandas as pd\n",
    "\n",
    "# Create the DB engine connector\n",
    "db_cnx = sa.create_engine(f'mysql://{USERNAME}:{PASSWORD}@{HOST_AND_PORT}/{DB_NAME}')\n",
    "\n",
    "# Read the Customer Table\n",
    "db_query = '''\n",
    "        SELECT *\n",
    "        FROM customer\n",
    "        '''\n",
    "cust_df = pd.read_sql(db_query, db_cnx)import sqlalchemy as sa"
   ]
  },
  {
   "cell_type": "code",
   "execution_count": 76,
   "id": "100526d5-579c-416c-b763-c5edd4ae7928",
   "metadata": {},
   "outputs": [],
   "source": [
    "from dotenv import load_dotenv\n",
    "import os\n",
    "from sqlalchemy import create_engine\n",
    "\n",
    "# Load environment variables from the .env file\n",
    "load_dotenv()\n",
    "\n",
    "# Access environment variables\n",
    "HOST_AND_PORT = os.getenv('DB_HOST_AND_PORT')\n",
    "DB_NAME = os.getenv('DB_NAME')\n",
    "USERNAME = os.getenv('DB_USERNAME')\n",
    "PASSWORD = os.getenv('DB_PASSWORD')\n",
    "\n",
    "# Construct the SQLAlchemy connection string\n",
    "connection_string = f\"mysql+mysqldb://{USERNAME}:{PASSWORD}@{HOST_AND_PORT}/{DB_NAME}\"\n",
    "\n",
    "# Create the SQLAlchemy engine\n",
    "engine = create_engine(connection_string)\n",
    "\n",
    "# Now you can use the 'engine' object to interact with the database\n",
    "# For example, you can execute queries using engine.execute(...)"
   ]
  },
  {
   "cell_type": "code",
   "execution_count": 77,
   "id": "2b938618-7e8d-4d2c-8665-8722399c940c",
   "metadata": {},
   "outputs": [
    {
     "name": "stdout",
     "output_type": "stream",
     "text": [
      "sakila\n"
     ]
    }
   ],
   "source": [
    "print(DB_NAME)"
   ]
  },
  {
   "cell_type": "markdown",
   "id": "31251e55-643a-405a-a518-7a87372921c1",
   "metadata": {},
   "source": [
    "### QUESTION 1: Determine how much we made in revenue from active and inactive members. Visualize the result as a bar chart."
   ]
  },
  {
   "cell_type": "code",
   "execution_count": 78,
   "id": "9cdc1cb5-bf60-4fcb-a599-a7eb5b66168e",
   "metadata": {},
   "outputs": [
    {
     "data": {
      "text/html": [
       "<div>\n",
       "<style scoped>\n",
       "    .dataframe tbody tr th:only-of-type {\n",
       "        vertical-align: middle;\n",
       "    }\n",
       "\n",
       "    .dataframe tbody tr th {\n",
       "        vertical-align: top;\n",
       "    }\n",
       "\n",
       "    .dataframe thead th {\n",
       "        text-align: right;\n",
       "    }\n",
       "</style>\n",
       "<table border=\"1\" class=\"dataframe\">\n",
       "  <thead>\n",
       "    <tr style=\"text-align: right;\">\n",
       "      <th></th>\n",
       "      <th>status</th>\n",
       "      <th>revenue</th>\n",
       "    </tr>\n",
       "  </thead>\n",
       "  <tbody>\n",
       "    <tr>\n",
       "      <th>0</th>\n",
       "      <td>Active</td>\n",
       "      <td>65746.60</td>\n",
       "    </tr>\n",
       "    <tr>\n",
       "      <th>1</th>\n",
       "      <td>Inactive</td>\n",
       "      <td>1659.96</td>\n",
       "    </tr>\n",
       "  </tbody>\n",
       "</table>\n",
       "</div>"
      ],
      "text/plain": [
       "     status   revenue\n",
       "0    Active  65746.60\n",
       "1  Inactive   1659.96"
      ]
     },
     "execution_count": 78,
     "metadata": {},
     "output_type": "execute_result"
    }
   ],
   "source": [
    "import pandas as pd\n",
    "\n",
    "db_query   = '''\n",
    "    WITH Total_revenue AS (\n",
    "    SELECT t1.customer_id, t1.active, t2.amount\n",
    "    FROM customer as t1\n",
    "    JOIN payment as t2 \n",
    "\tON t1.customer_id = t2.customer_id\n",
    ") \n",
    "    SELECT  \n",
    "    CASE\n",
    "     WHEN active = 1 THEN 'Active'\n",
    "     WHEN active = 0 THEN 'Inactive'\n",
    "     ELSE 'Unknown'\n",
    "     END AS status, \n",
    "    SUM(amount) AS revenue\n",
    "FROM Total_revenue\n",
    "GROUP BY active;    \n",
    "'''\n",
    "\n",
    "df_output = pd.read_sql(db_query, engine)\n",
    "\n",
    "df_output"
   ]
  },
  {
   "cell_type": "code",
   "execution_count": 48,
   "id": "89326931-8ea7-4879-abb4-5861d3b4418e",
   "metadata": {},
   "outputs": [
    {
     "data": {
      "image/png": "[encoded data removed]",
      "text/plain": [
       "<Figure size 640x480 with 1 Axes>"
      ]
     },
     "metadata": {},
     "output_type": "display_data"
    }
   ],
   "source": [
    "import matplotlib.pyplot as plt\n",
    "\n",
    "category = [df_output['status'][1], df_output['status'][0]]\n",
    "revenues = [df_output['revenue'][1], df_output['revenue'][0]]\n",
    "\n",
    "#bar chart\n",
    "plt.bar(category, revenues, color=['red', 'green'])\n",
    "\n",
    "plt.xlabel('Members Status')\n",
    "plt.ylabel('Total Revenue')\n",
    "\n",
    "plt.title('Bar Chart')\n",
    "\n",
    "plt.show()"
   ]
  },
  {
   "cell_type": "markdown",
   "id": "261b6234-8a13-417e-9064-f4f810d90c17",
   "metadata": {},
   "source": [
    "### QUESTION 2: We have 2 staff members, Mike and Jon. Determine the staff member that contributed the most to our revenue in the month of August in 2005. Visualize their percentage contribution as a pie chart."
   ]
  },
  {
   "cell_type": "code",
   "execution_count": 51,
   "id": "7f7bdeb6-3e62-4ed0-881f-cbc82f28bffa",
   "metadata": {},
   "outputs": [
    {
     "data": {
      "text/html": [
       "<div>\n",
       "<style scoped>\n",
       "    .dataframe tbody tr th:only-of-type {\n",
       "        vertical-align: middle;\n",
       "    }\n",
       "\n",
       "    .dataframe tbody tr th {\n",
       "        vertical-align: top;\n",
       "    }\n",
       "\n",
       "    .dataframe thead th {\n",
       "        text-align: right;\n",
       "    }\n",
       "</style>\n",
       "<table border=\"1\" class=\"dataframe\">\n",
       "  <thead>\n",
       "    <tr style=\"text-align: right;\">\n",
       "      <th></th>\n",
       "      <th>staff_id</th>\n",
       "      <th>first_name</th>\n",
       "      <th>last_name</th>\n",
       "      <th>amount</th>\n",
       "      <th>payment_date</th>\n",
       "    </tr>\n",
       "  </thead>\n",
       "  <tbody>\n",
       "    <tr>\n",
       "      <th>0</th>\n",
       "      <td>1</td>\n",
       "      <td>Mike</td>\n",
       "      <td>Hillyer</td>\n",
       "      <td>0.99</td>\n",
       "      <td>2005-08-02 18:01:38</td>\n",
       "    </tr>\n",
       "    <tr>\n",
       "      <th>1</th>\n",
       "      <td>1</td>\n",
       "      <td>Mike</td>\n",
       "      <td>Hillyer</td>\n",
       "      <td>0.99</td>\n",
       "      <td>2005-08-18 03:57:29</td>\n",
       "    </tr>\n",
       "    <tr>\n",
       "      <th>2</th>\n",
       "      <td>1</td>\n",
       "      <td>Mike</td>\n",
       "      <td>Hillyer</td>\n",
       "      <td>0.99</td>\n",
       "      <td>2005-08-21 23:33:57</td>\n",
       "    </tr>\n",
       "    <tr>\n",
       "      <th>3</th>\n",
       "      <td>1</td>\n",
       "      <td>Mike</td>\n",
       "      <td>Hillyer</td>\n",
       "      <td>1.99</td>\n",
       "      <td>2005-08-22 01:27:57</td>\n",
       "    </tr>\n",
       "    <tr>\n",
       "      <th>4</th>\n",
       "      <td>1</td>\n",
       "      <td>Mike</td>\n",
       "      <td>Hillyer</td>\n",
       "      <td>5.99</td>\n",
       "      <td>2005-08-22 20:03:46</td>\n",
       "    </tr>\n",
       "    <tr>\n",
       "      <th>...</th>\n",
       "      <td>...</td>\n",
       "      <td>...</td>\n",
       "      <td>...</td>\n",
       "      <td>...</td>\n",
       "      <td>...</td>\n",
       "    </tr>\n",
       "    <tr>\n",
       "      <th>5681</th>\n",
       "      <td>2</td>\n",
       "      <td>Jon</td>\n",
       "      <td>Stephens</td>\n",
       "      <td>2.99</td>\n",
       "      <td>2005-08-22 19:54:26</td>\n",
       "    </tr>\n",
       "    <tr>\n",
       "      <th>5682</th>\n",
       "      <td>2</td>\n",
       "      <td>Jon</td>\n",
       "      <td>Stephens</td>\n",
       "      <td>3.99</td>\n",
       "      <td>2005-08-17 00:05:05</td>\n",
       "    </tr>\n",
       "    <tr>\n",
       "      <th>5683</th>\n",
       "      <td>2</td>\n",
       "      <td>Jon</td>\n",
       "      <td>Stephens</td>\n",
       "      <td>8.99</td>\n",
       "      <td>2005-08-23 06:09:44</td>\n",
       "    </tr>\n",
       "    <tr>\n",
       "      <th>5684</th>\n",
       "      <td>2</td>\n",
       "      <td>Jon</td>\n",
       "      <td>Stephens</td>\n",
       "      <td>2.99</td>\n",
       "      <td>2005-08-23 11:08:46</td>\n",
       "    </tr>\n",
       "    <tr>\n",
       "      <th>5685</th>\n",
       "      <td>2</td>\n",
       "      <td>Jon</td>\n",
       "      <td>Stephens</td>\n",
       "      <td>2.99</td>\n",
       "      <td>2005-08-23 11:25:00</td>\n",
       "    </tr>\n",
       "  </tbody>\n",
       "</table>\n",
       "<p>5686 rows × 5 columns</p>\n",
       "</div>"
      ],
      "text/plain": [
       "      staff_id first_name last_name  amount        payment_date\n",
       "0            1       Mike   Hillyer    0.99 2005-08-02 18:01:38\n",
       "1            1       Mike   Hillyer    0.99 2005-08-18 03:57:29\n",
       "2            1       Mike   Hillyer    0.99 2005-08-21 23:33:57\n",
       "3            1       Mike   Hillyer    1.99 2005-08-22 01:27:57\n",
       "4            1       Mike   Hillyer    5.99 2005-08-22 20:03:46\n",
       "...        ...        ...       ...     ...                 ...\n",
       "5681         2        Jon  Stephens    2.99 2005-08-22 19:54:26\n",
       "5682         2        Jon  Stephens    3.99 2005-08-17 00:05:05\n",
       "5683         2        Jon  Stephens    8.99 2005-08-23 06:09:44\n",
       "5684         2        Jon  Stephens    2.99 2005-08-23 11:08:46\n",
       "5685         2        Jon  Stephens    2.99 2005-08-23 11:25:00\n",
       "\n",
       "[5686 rows x 5 columns]"
      ]
     },
     "execution_count": 51,
     "metadata": {},
     "output_type": "execute_result"
    }
   ],
   "source": [
    "db_query   = '''\n",
    "    SELECT s.staff_id, s.first_name, s.last_name, p.amount, p.payment_date \n",
    "    FROM staff as s\n",
    "    INNER JOIN payment as p\n",
    "    ON s.staff_id = p.staff_id\n",
    "    WHERE (month(p.payment_date) = 8 AND year(p.payment_date) = 2005)    \n",
    "'''\n",
    "\n",
    "df_staff = pd.read_sql(db_query, engine)\n",
    "\n",
    "df_staff"
   ]
  },
  {
   "cell_type": "code",
   "execution_count": 52,
   "id": "df752fa0-196a-40d4-a66c-92f7cb941191",
   "metadata": {},
   "outputs": [
    {
     "data": {
      "text/plain": [
       "staff_id        0\n",
       "first_name      0\n",
       "last_name       0\n",
       "amount          0\n",
       "payment_date    0\n",
       "dtype: int64"
      ]
     },
     "execution_count": 52,
     "metadata": {},
     "output_type": "execute_result"
    }
   ],
   "source": [
    "df_staff.isna().sum()"
   ]
  },
  {
   "cell_type": "code",
   "execution_count": 59,
   "id": "a1d780c7-7f17-4b7e-a5e9-2ee711f8333c",
   "metadata": {},
   "outputs": [
    {
     "data": {
      "text/html": [
       "<div>\n",
       "<style scoped>\n",
       "    .dataframe tbody tr th:only-of-type {\n",
       "        vertical-align: middle;\n",
       "    }\n",
       "\n",
       "    .dataframe tbody tr th {\n",
       "        vertical-align: top;\n",
       "    }\n",
       "\n",
       "    .dataframe thead th {\n",
       "        text-align: right;\n",
       "    }\n",
       "</style>\n",
       "<table border=\"1\" class=\"dataframe\">\n",
       "  <thead>\n",
       "    <tr style=\"text-align: right;\">\n",
       "      <th></th>\n",
       "      <th>first_name</th>\n",
       "      <th>last_name</th>\n",
       "      <th>revenue</th>\n",
       "    </tr>\n",
       "    <tr>\n",
       "      <th>staff_id</th>\n",
       "      <th></th>\n",
       "      <th></th>\n",
       "      <th></th>\n",
       "    </tr>\n",
       "  </thead>\n",
       "  <tbody>\n",
       "    <tr>\n",
       "      <th>2</th>\n",
       "      <td>Jon</td>\n",
       "      <td>Stephens</td>\n",
       "      <td>12216.49</td>\n",
       "    </tr>\n",
       "    <tr>\n",
       "      <th>1</th>\n",
       "      <td>Mike</td>\n",
       "      <td>Hillyer</td>\n",
       "      <td>11853.65</td>\n",
       "    </tr>\n",
       "  </tbody>\n",
       "</table>\n",
       "</div>"
      ],
      "text/plain": [
       "         first_name last_name   revenue\n",
       "staff_id                               \n",
       "2               Jon  Stephens  12216.49\n",
       "1              Mike   Hillyer  11853.65"
      ]
     },
     "execution_count": 59,
     "metadata": {},
     "output_type": "execute_result"
    }
   ],
   "source": [
    "revenue_by_staff = (df_staff\n",
    "                    .groupby(by=['staff_id','first_name', 'last_name'])\n",
    "                    .agg(revenue=pd.NamedAgg('amount', 'sum'))\n",
    "                    .reset_index()\n",
    "                    .set_index('staff_id')\n",
    "                    .sort_values(by='revenue', ascending=False)  # Sort by revenue in descending order\n",
    "                    )\n",
    "\n",
    "revenue_by_staff"
   ]
  },
  {
   "cell_type": "markdown",
   "id": "f8573382-f2b6-437a-be69-33eaa4100e3c",
   "metadata": {},
   "source": [
    "It can be observed that Jon Stephens generated the most revenue at 12,216.49, although Mike Hillyer came close at 11,853.65"
   ]
  },
  {
   "cell_type": "code",
   "execution_count": 62,
   "id": "76207a9b-c410-4a37-8f80-201df2c48b38",
   "metadata": {},
   "outputs": [
    {
     "data": {
      "image/png": "[encoded data removed]",
      "text/plain": [
       "<Figure size 640x480 with 1 Axes>"
      ]
     },
     "metadata": {},
     "output_type": "display_data"
    }
   ],
   "source": [
    "# Visualisation\n",
    "plt.pie(revenue_by_staff['revenue'],        \n",
    "        labels=revenue_by_staff['first_name'], \n",
    "        autopct='%.1f%%'\n",
    "        )\n",
    "\n",
    "plt.legend(title='Staff')\n",
    "\n",
    "plt.title(\"Percentage revenue contribution by staff\")\n",
    "\n",
    "plt.show()"
   ]
  },
  {
   "cell_type": "markdown",
   "id": "f5c128c9-20ef-4c48-8fd2-8ed08eb0df42",
   "metadata": {},
   "source": [
    "*It is evident that the staff member- Jon contributed the most revenue 50.8% in the month of August 2005*"
   ]
  },
  {
   "cell_type": "markdown",
   "id": "c02a1d89-15ba-4f1c-a675-8c8557d4fff0",
   "metadata": {},
   "source": [
    "### QUESTION 3: Create a simple line chart showing the monthly rental count of the store. Do you notice any patterns or trends?"
   ]
  },
  {
   "cell_type": "code",
   "execution_count": 107,
   "id": "2918be15-9648-4565-9332-d2f175aca0be",
   "metadata": {},
   "outputs": [
    {
     "data": {
      "text/html": [
       "<div>\n",
       "<style scoped>\n",
       "    .dataframe tbody tr th:only-of-type {\n",
       "        vertical-align: middle;\n",
       "    }\n",
       "\n",
       "    .dataframe tbody tr th {\n",
       "        vertical-align: top;\n",
       "    }\n",
       "\n",
       "    .dataframe thead th {\n",
       "        text-align: right;\n",
       "    }\n",
       "</style>\n",
       "<table border=\"1\" class=\"dataframe\">\n",
       "  <thead>\n",
       "    <tr style=\"text-align: right;\">\n",
       "      <th></th>\n",
       "      <th>store_id</th>\n",
       "      <th>rental_id</th>\n",
       "      <th>amount</th>\n",
       "      <th>rental_date</th>\n",
       "    </tr>\n",
       "  </thead>\n",
       "  <tbody>\n",
       "    <tr>\n",
       "      <th>0</th>\n",
       "      <td>1</td>\n",
       "      <td>1</td>\n",
       "      <td>2.99</td>\n",
       "      <td>2005-05-24 22:53:30</td>\n",
       "    </tr>\n",
       "    <tr>\n",
       "      <th>1</th>\n",
       "      <td>2</td>\n",
       "      <td>2</td>\n",
       "      <td>2.99</td>\n",
       "      <td>2005-05-24 22:54:33</td>\n",
       "    </tr>\n",
       "    <tr>\n",
       "      <th>2</th>\n",
       "      <td>2</td>\n",
       "      <td>3</td>\n",
       "      <td>3.99</td>\n",
       "      <td>2005-05-24 23:03:39</td>\n",
       "    </tr>\n",
       "    <tr>\n",
       "      <th>3</th>\n",
       "      <td>1</td>\n",
       "      <td>4</td>\n",
       "      <td>4.99</td>\n",
       "      <td>2005-05-24 23:04:41</td>\n",
       "    </tr>\n",
       "    <tr>\n",
       "      <th>4</th>\n",
       "      <td>2</td>\n",
       "      <td>5</td>\n",
       "      <td>6.99</td>\n",
       "      <td>2005-05-24 23:05:21</td>\n",
       "    </tr>\n",
       "    <tr>\n",
       "      <th>...</th>\n",
       "      <td>...</td>\n",
       "      <td>...</td>\n",
       "      <td>...</td>\n",
       "      <td>...</td>\n",
       "    </tr>\n",
       "    <tr>\n",
       "      <th>16039</th>\n",
       "      <td>1</td>\n",
       "      <td>13486</td>\n",
       "      <td>0.99</td>\n",
       "      <td>2006-02-14 15:16:03</td>\n",
       "    </tr>\n",
       "    <tr>\n",
       "      <th>16040</th>\n",
       "      <td>2</td>\n",
       "      <td>15966</td>\n",
       "      <td>2.99</td>\n",
       "      <td>2006-02-14 15:16:03</td>\n",
       "    </tr>\n",
       "    <tr>\n",
       "      <th>16041</th>\n",
       "      <td>1</td>\n",
       "      <td>11676</td>\n",
       "      <td>0.00</td>\n",
       "      <td>2006-02-14 15:16:03</td>\n",
       "    </tr>\n",
       "    <tr>\n",
       "      <th>16042</th>\n",
       "      <td>2</td>\n",
       "      <td>14616</td>\n",
       "      <td>0.99</td>\n",
       "      <td>2006-02-14 15:16:03</td>\n",
       "    </tr>\n",
       "    <tr>\n",
       "      <th>16043</th>\n",
       "      <td>2</td>\n",
       "      <td>11739</td>\n",
       "      <td>0.99</td>\n",
       "      <td>2006-02-14 15:16:03</td>\n",
       "    </tr>\n",
       "  </tbody>\n",
       "</table>\n",
       "<p>16044 rows × 4 columns</p>\n",
       "</div>"
      ],
      "text/plain": [
       "       store_id  rental_id  amount         rental_date\n",
       "0             1          1    2.99 2005-05-24 22:53:30\n",
       "1             2          2    2.99 2005-05-24 22:54:33\n",
       "2             2          3    3.99 2005-05-24 23:03:39\n",
       "3             1          4    4.99 2005-05-24 23:04:41\n",
       "4             2          5    6.99 2005-05-24 23:05:21\n",
       "...         ...        ...     ...                 ...\n",
       "16039         1      13486    0.99 2006-02-14 15:16:03\n",
       "16040         2      15966    2.99 2006-02-14 15:16:03\n",
       "16041         1      11676    0.00 2006-02-14 15:16:03\n",
       "16042         2      14616    0.99 2006-02-14 15:16:03\n",
       "16043         2      11739    0.99 2006-02-14 15:16:03\n",
       "\n",
       "[16044 rows x 4 columns]"
      ]
     },
     "execution_count": 107,
     "metadata": {},
     "output_type": "execute_result"
    }
   ],
   "source": [
    "db_query   = '''\n",
    "    SELECT i.store_id, p.rental_id, p.amount, r.rental_date \n",
    "    FROM rental as r\n",
    "        INNER JOIN inventory as i\n",
    "        ON r.inventory_id = i.inventory_id\n",
    "        INNER JOIN payment as p\n",
    "        ON r.rental_id = p.rental_id;   \n",
    "'''\n",
    "\n",
    "df_output_2 = pd.read_sql(db_query, engine)\n",
    "\n",
    "df_output_2"
   ]
  },
  {
   "cell_type": "code",
   "execution_count": 108,
   "id": "fe5be957-b1f3-404e-8e39-dc251417e860",
   "metadata": {},
   "outputs": [
    {
     "name": "stdout",
     "output_type": "stream",
     "text": [
      "<class 'pandas.core.frame.DataFrame'>\n",
      "RangeIndex: 16044 entries, 0 to 16043\n",
      "Data columns (total 4 columns):\n",
      " #   Column       Non-Null Count  Dtype         \n",
      "---  ------       --------------  -----         \n",
      " 0   store_id     16044 non-null  int64         \n",
      " 1   rental_id    16044 non-null  int64         \n",
      " 2   amount       16044 non-null  float64       \n",
      " 3   rental_date  16044 non-null  datetime64[ns]\n",
      "dtypes: datetime64[ns](1), float64(1), int64(2)\n",
      "memory usage: 501.5 KB\n"
     ]
    }
   ],
   "source": [
    "df_output_2.info()"
   ]
  },
  {
   "cell_type": "code",
   "execution_count": 104,
   "id": "86d89c39-f173-4d7b-8817-ebf9cad69de4",
   "metadata": {},
   "outputs": [],
   "source": [
    "# import calendar\n",
    "\n",
    "# # # Convert month numbers to month names\n",
    "# # df_output_2['rental_month'] = df_output_2['rental_month'].apply(lambda x: calendar.month_name[x])\n",
    "\n",
    "# # Convert month numbers to month names\n",
    "# # df_output_2['rental_date'] = df_output_2['rental_date'].apply(lambda x: x.to_period('M'))\n",
    "\n",
    "# # Display the updated DataFrame\n",
    "# df_output_2"
   ]
  },
  {
   "cell_type": "code",
   "execution_count": 109,
   "id": "1b77fe11-37fd-4217-86c6-5a830cabb811",
   "metadata": {},
   "outputs": [
    {
     "name": "stdout",
     "output_type": "stream",
     "text": [
      "rental_date\n",
      "2005-05-31    1156\n",
      "2005-06-30    2311\n",
      "2005-07-31    6709\n",
      "2005-08-31    5686\n",
      "2005-09-30       0\n",
      "2005-10-31       0\n",
      "2005-11-30       0\n",
      "2005-12-31       0\n",
      "2006-01-31       0\n",
      "2006-02-28     182\n",
      "Freq: M, dtype: int64\n"
     ]
    }
   ],
   "source": [
    "rental_count = (df_output_2\n",
    "                    .set_index('rental_date')\n",
    "                    .sort_index(ascending=True)\n",
    "                    .resample('M')\n",
    "                    .size()\n",
    "                    )\n",
    "print(rental_count)"
   ]
  },
  {
   "cell_type": "code",
   "execution_count": 110,
   "id": "bf5208af-2f69-4780-9e16-d2b4b0a37e65",
   "metadata": {},
   "outputs": [
    {
     "data": {
      "text/plain": [
       "DatetimeIndex(['2005-05-31', '2005-06-30', '2005-07-31', '2005-08-31',\n",
       "               '2005-09-30', '2005-10-31', '2005-11-30', '2005-12-31',\n",
       "               '2006-01-31', '2006-02-28'],\n",
       "              dtype='datetime64[ns]', name='rental_date', freq='M')"
      ]
     },
     "execution_count": 110,
     "metadata": {},
     "output_type": "execute_result"
    }
   ],
   "source": [
    "rental_count.index"
   ]
  },
  {
   "cell_type": "code",
   "execution_count": 111,
   "id": "566048e4-2a33-4fbd-b9f3-c6d35adc3baf",
   "metadata": {},
   "outputs": [
    {
     "name": "stdout",
     "output_type": "stream",
     "text": [
      "<class 'pandas.core.series.Series'>\n",
      "DatetimeIndex: 10 entries, 2005-05-31 to 2006-02-28\n",
      "Freq: M\n",
      "Series name: None\n",
      "Non-Null Count  Dtype\n",
      "--------------  -----\n",
      "10 non-null     int64\n",
      "dtypes: int64(1)\n",
      "memory usage: 160.0 bytes\n"
     ]
    }
   ],
   "source": [
    "# Convert month numbers to month names\n",
    "rental_count.info()"
   ]
  },
  {
   "cell_type": "code",
   "execution_count": 112,
   "id": "fe5b8779-693d-4662-8f9e-03a09604bae0",
   "metadata": {},
   "outputs": [
    {
     "data": {
      "image/png": "[encoded data removed]",
      "text/plain": [
       "<Figure size 640x480 with 1 Axes>"
      ]
     },
     "metadata": {},
     "output_type": "display_data"
    }
   ],
   "source": [
    "# plt.plot(rental_count.index, rental_count.values)\n",
    "\n",
    "rental_count.plot()\n",
    "\n",
    "plt.xlabel('X-axis')\n",
    "plt.ylabel('Y-axis')\n",
    "\n",
    "plt.title('Line Plot')\n",
    "\n",
    "plt.show()"
   ]
  },
  {
   "cell_type": "markdown",
   "id": "61cc1f58-7632-4d6a-b852-84a80b25923c",
   "metadata": {},
   "source": [
    "### QUESTION 4: Create a basic bar chart to show the monthly revenue for the rental store."
   ]
  },
  {
   "cell_type": "code",
   "execution_count": 113,
   "id": "21103564-0d01-4e1a-b5dc-5efd1043ab30",
   "metadata": {},
   "outputs": [
    {
     "name": "stdout",
     "output_type": "stream",
     "text": [
      "rental_date\n",
      "2005-05-31     4823.44\n",
      "2005-06-30     9629.89\n",
      "2005-07-31    28368.91\n",
      "2005-08-31    24070.14\n",
      "2005-09-30        0.00\n",
      "2005-10-31        0.00\n",
      "2005-11-30        0.00\n",
      "2005-12-31        0.00\n",
      "2006-01-31        0.00\n",
      "2006-02-28      514.18\n",
      "Freq: M, Name: amount, dtype: float64\n"
     ]
    }
   ],
   "source": [
    "monthly_revenue = (df_output_2\n",
    "                    .set_index('rental_date')\n",
    "                    .sort_index(ascending=True)\n",
    "                    .resample('M')\n",
    "                    ['amount']\n",
    "                    .sum()\n",
    "                    )\n",
    "print(monthly_revenue)"
   ]
  },
  {
   "cell_type": "code",
   "execution_count": 116,
   "id": "85be7572-6994-4dea-824b-04c905f4320e",
   "metadata": {},
   "outputs": [],
   "source": [
    "monthly_revenue.index = monthly_revenue.index.to_period('M')"
   ]
  },
  {
   "cell_type": "code",
   "execution_count": 121,
   "id": "d7bf05e3-1d70-4bb3-8afc-f617eb184182",
   "metadata": {},
   "outputs": [
    {
     "data": {
      "image/png": "[encoded data removed]",
      "text/plain": [
       "<Figure size 640x480 with 1 Axes>"
      ]
     },
     "metadata": {},
     "output_type": "display_data"
    }
   ],
   "source": [
    "monthly_revenue.plot(kind='bar')\n",
    "\n",
    "\n",
    "# Rotate x-axis labels for better visibility\n",
    "plt.xticks(rotation=45, ha='center')\n",
    "\n",
    "plt.xlabel('Months')\n",
    "plt.ylabel('Revenues')\n",
    "\n",
    "plt.title('Bar Chart')\n",
    "\n",
    "plt.show()"
   ]
  }
 ],
 "metadata": {
  "kernelspec": {
   "display_name": "Python 3 (ipykernel)",
   "language": "python",
   "name": "python3"
  },
  "language_info": {
   "codemirror_mode": {
    "name": "ipython",
    "version": 3
   },
   "file_extension": ".py",
   "mimetype": "text/x-python",
   "name": "python",
   "nbconvert_exporter": "python",
   "pygments_lexer": "ipython3",
   "version": "3.10.11"
  }
 },
 "nbformat": 4,
 "nbformat_minor": 5
}
